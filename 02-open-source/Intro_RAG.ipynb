{
 "cells": [
  {
   "cell_type": "markdown",
   "metadata": {},
   "source": [
    "# Introduction to RAG"
   ]
  },
  {
   "cell_type": "markdown",
   "metadata": {},
   "source": [
    "## 1. Indexing Documents with Min-Search"
   ]
  },
  {
   "cell_type": "code",
   "execution_count": 16,
   "metadata": {},
   "outputs": [],
   "source": [
    "import json\n",
    "import minsearch"
   ]
  },
  {
   "cell_type": "code",
   "execution_count": 17,
   "metadata": {},
   "outputs": [],
   "source": [
    "with open('../01-introduction/faq_database.json', 'rt') as f_in:\n",
    "    docs_raw = json.load(f_in)\n",
    "\n",
    "documents = []\n",
    "\n",
    "for course_dict in docs_raw:\n",
    "    for doc in course_dict['documents']:\n",
    "        doc['course'] = course_dict['course']\n",
    "        documents.append(doc)"
   ]
  },
  {
   "cell_type": "markdown",
   "metadata": {},
   "source": [
    "Examples of questions and answers in the documents"
   ]
  },
  {
   "cell_type": "code",
   "execution_count": 18,
   "metadata": {},
   "outputs": [
    {
     "data": {
      "text/plain": [
       "{'text': \"The purpose of this document is to capture frequently asked technical questions\\nThe exact day and hour of the course will be 15th Jan 2024 at 17h00. The course will start with the first  “Office Hours'' live.1\\nSubscribe to course public Google Calendar (it works from Desktop only).\\nRegister before the course starts using this link.\\nJoin the course Telegram channel with announcements.\\nDon’t forget to register in DataTalks.Club's Slack and join the channel.\",\n",
       " 'section': 'General course-related questions',\n",
       " 'question': 'Course - When will the course start?',\n",
       " 'course': 'data-engineering-zoomcamp'}"
      ]
     },
     "execution_count": 18,
     "metadata": {},
     "output_type": "execute_result"
    }
   ],
   "source": [
    "documents[0]"
   ]
  },
  {
   "cell_type": "code",
   "execution_count": 19,
   "metadata": {},
   "outputs": [
    {
     "data": {
      "text/plain": [
       "{'text': 'GitHub - DataTalksClub data-engineering-zoomcamp#prerequisites',\n",
       " 'section': 'General course-related questions',\n",
       " 'question': 'Course - What are the prerequisites for this course?',\n",
       " 'course': 'data-engineering-zoomcamp'}"
      ]
     },
     "execution_count": 19,
     "metadata": {},
     "output_type": "execute_result"
    }
   ],
   "source": [
    "documents[1]"
   ]
  },
  {
   "cell_type": "markdown",
   "metadata": {},
   "source": [
    "Minimal search engine to return the most similar documents to the new query"
   ]
  },
  {
   "cell_type": "code",
   "execution_count": 20,
   "metadata": {},
   "outputs": [
    {
     "name": "stdout",
     "output_type": "stream",
     "text": [
      "\u001b[0;31mInit signature:\u001b[0m \u001b[0mminsearch\u001b[0m\u001b[0;34m.\u001b[0m\u001b[0mIndex\u001b[0m\u001b[0;34m(\u001b[0m\u001b[0mtext_fields\u001b[0m\u001b[0;34m,\u001b[0m \u001b[0mkeyword_fields\u001b[0m\u001b[0;34m,\u001b[0m \u001b[0mvectorizer_params\u001b[0m\u001b[0;34m=\u001b[0m\u001b[0;34m{\u001b[0m\u001b[0;34m}\u001b[0m\u001b[0;34m)\u001b[0m\u001b[0;34m\u001b[0m\u001b[0;34m\u001b[0m\u001b[0m\n",
      "\u001b[0;31mDocstring:\u001b[0m     \n",
      "A simple search index using TF-IDF and cosine similarity for text fields and exact matching for keyword fields.\n",
      "\n",
      "Attributes:\n",
      "    text_fields (list): List of text field names to index.\n",
      "    keyword_fields (list): List of keyword field names to index.\n",
      "    vectorizers (dict): Dictionary of TfidfVectorizer instances for each text field.\n",
      "    keyword_df (pd.DataFrame): DataFrame containing keyword field data.\n",
      "    text_matrices (dict): Dictionary of TF-IDF matrices for each text field.\n",
      "    docs (list): List of documents indexed.\n",
      "\u001b[0;31mInit docstring:\u001b[0m\n",
      "Initializes the Index with specified text and keyword fields.\n",
      "\n",
      "Args:\n",
      "    text_fields (list): List of text field names to index.\n",
      "    keyword_fields (list): List of keyword field names to index.\n",
      "    vectorizer_params (dict): Optional parameters to pass to TfidfVectorizer.\n",
      "\u001b[0;31mFile:\u001b[0m           ~/Documents/Data-Science/LLM Courses/LLMZoomcamp/02-open-source/minsearch.py\n",
      "\u001b[0;31mType:\u001b[0m           type\n",
      "\u001b[0;31mSubclasses:\u001b[0m     "
     ]
    }
   ],
   "source": [
    "minsearch.Index?"
   ]
  },
  {
   "cell_type": "code",
   "execution_count": 21,
   "metadata": {},
   "outputs": [],
   "source": [
    "index = minsearch.Index(\n",
    "    text_fields=[\"question\", \"text\", \"section\"],\n",
    "    keyword_fields=[\"course\"] # filter field to \"train\"\n",
    ")"
   ]
  },
  {
   "cell_type": "code",
   "execution_count": 22,
   "metadata": {},
   "outputs": [
    {
     "data": {
      "text/plain": [
       "<minsearch.Index at 0x77990e880b50>"
      ]
     },
     "execution_count": 22,
     "metadata": {},
     "output_type": "execute_result"
    }
   ],
   "source": [
    "index.fit(documents)"
   ]
  },
  {
   "cell_type": "code",
   "execution_count": 23,
   "metadata": {},
   "outputs": [
    {
     "name": "stdout",
     "output_type": "stream",
     "text": [
      "\u001b[0;31mSignature:\u001b[0m \u001b[0mindex\u001b[0m\u001b[0;34m.\u001b[0m\u001b[0msearch\u001b[0m\u001b[0;34m(\u001b[0m\u001b[0mquery\u001b[0m\u001b[0;34m,\u001b[0m \u001b[0mfilter_dict\u001b[0m\u001b[0;34m=\u001b[0m\u001b[0;34m{\u001b[0m\u001b[0;34m}\u001b[0m\u001b[0;34m,\u001b[0m \u001b[0mboost_dict\u001b[0m\u001b[0;34m=\u001b[0m\u001b[0;34m{\u001b[0m\u001b[0;34m}\u001b[0m\u001b[0;34m,\u001b[0m \u001b[0mnum_results\u001b[0m\u001b[0;34m=\u001b[0m\u001b[0;36m10\u001b[0m\u001b[0;34m)\u001b[0m\u001b[0;34m\u001b[0m\u001b[0;34m\u001b[0m\u001b[0m\n",
      "\u001b[0;31mDocstring:\u001b[0m\n",
      "Searches the index with the given query, filters, and boost parameters.\n",
      "\n",
      "Args:\n",
      "    query (str): The search query string.\n",
      "    filter_dict (dict): Dictionary of keyword fields to filter by. Keys are field names and values are the values to filter by.\n",
      "    boost_dict (dict): Dictionary of boost scores for text fields. Keys are field names and values are the boost scores.\n",
      "    num_results (int): The number of top results to return. Defaults to 10.\n",
      "\n",
      "Returns:\n",
      "    list of dict: List of documents matching the search criteria, ranked by relevance.\n",
      "\u001b[0;31mFile:\u001b[0m      ~/Documents/Data-Science/LLM Courses/LLMZoomcamp/02-open-source/minsearch.py\n",
      "\u001b[0;31mType:\u001b[0m      method"
     ]
    }
   ],
   "source": [
    "index.search?"
   ]
  },
  {
   "cell_type": "code",
   "execution_count": 24,
   "metadata": {},
   "outputs": [],
   "source": [
    "def search(question: str, filter_dict: dict = {}, num_results=5) -> list:\n",
    "    \"\"\"\n",
    "    Search for relevant results based on the given question and course.\n",
    "\n",
    "    Parameters:\n",
    "    question (str): The question to search for.\n",
    "    course (str): The course to filter the search results.\n",
    "    num_results (int): The number of results to return. Default is 5.\n",
    "\n",
    "    Returns:\n",
    "    list: A list of search results.\n",
    "    \"\"\"\n",
    "    \n",
    "    boost = {'question': 3.0, 'section': 0.5}\n",
    "\n",
    "    results = index.search(\n",
    "        query=question,\n",
    "        filter_dict=filter_dict, # filter field to \"predict\"\n",
    "        boost_dict=boost,\n",
    "        num_results=num_results\n",
    "    )\n",
    "\n",
    "    return results"
   ]
  },
  {
   "cell_type": "code",
   "execution_count": 25,
   "metadata": {},
   "outputs": [
    {
     "data": {
      "text/plain": [
       "[{'text': \"Yes, even if you don't register, you're still eligible to submit the homeworks.\\nBe aware, however, that there will be deadlines for turning in the final projects. So don't leave everything for the last minute.\",\n",
       "  'section': 'General course-related questions',\n",
       "  'question': 'Course - Can I still join the course after the start date?',\n",
       "  'course': 'data-engineering-zoomcamp'},\n",
       " {'text': 'Yes, we will keep all the materials after the course finishes, so you can follow the course at your own pace after it finishes.\\nYou can also continue looking at the homeworks and continue preparing for the next cohort. I guess you can also start working on your final capstone project.',\n",
       "  'section': 'General course-related questions',\n",
       "  'question': 'Course - Can I follow the course after it finishes?',\n",
       "  'course': 'data-engineering-zoomcamp'},\n",
       " {'text': \"The purpose of this document is to capture frequently asked technical questions\\nThe exact day and hour of the course will be 15th Jan 2024 at 17h00. The course will start with the first  “Office Hours'' live.1\\nSubscribe to course public Google Calendar (it works from Desktop only).\\nRegister before the course starts using this link.\\nJoin the course Telegram channel with announcements.\\nDon’t forget to register in DataTalks.Club's Slack and join the channel.\",\n",
       "  'section': 'General course-related questions',\n",
       "  'question': 'Course - When will the course start?',\n",
       "  'course': 'data-engineering-zoomcamp'},\n",
       " {'text': 'You can start by installing and setting up all the dependencies and requirements:\\nGoogle cloud account\\nGoogle Cloud SDK\\nPython 3 (installed with Anaconda)\\nTerraform\\nGit\\nLook over the prerequisites and syllabus to see if you are comfortable with these subjects.',\n",
       "  'section': 'General course-related questions',\n",
       "  'question': 'Course - What can I do before the course starts?',\n",
       "  'course': 'data-engineering-zoomcamp'},\n",
       " {'text': 'Yes, the slack channel remains open and you can ask questions there. But always sDocker containers exit code w search the channel first and second, check the FAQ (this document), most likely all your questions are already answered here.\\nYou can also tag the bot @ZoomcampQABot to help you conduct the search, but don’t rely on its answers 100%, it is pretty good though.',\n",
       "  'section': 'General course-related questions',\n",
       "  'question': 'Course - Can I get support if I take the course in the self-paced mode?',\n",
       "  'course': 'data-engineering-zoomcamp'}]"
      ]
     },
     "execution_count": 25,
     "metadata": {},
     "output_type": "execute_result"
    }
   ],
   "source": [
    "question = \"The course has already started, can I still enroll?\"\n",
    "search(question=question, filter_dict={\"course\": \"data-engineering-zoomcamp\"})"
   ]
  },
  {
   "cell_type": "markdown",
   "metadata": {},
   "source": [
    "Here we have the list of the most similar answered-questions in the database."
   ]
  },
  {
   "cell_type": "markdown",
   "metadata": {},
   "source": [
    "## 2. Setup LLM Model"
   ]
  },
  {
   "cell_type": "code",
   "execution_count": 26,
   "metadata": {},
   "outputs": [],
   "source": [
    "import ollama"
   ]
  },
  {
   "cell_type": "code",
   "execution_count": 27,
   "metadata": {},
   "outputs": [
    {
     "data": {
      "text/plain": [
       "{'models': [{'name': 'phi3:latest',\n",
       "   'model': 'phi3:latest',\n",
       "   'modified_at': '2024-07-07T14:14:27.925410356-03:00',\n",
       "   'size': 2176178401,\n",
       "   'digest': 'd184c916657ef4eaff1908b1955043cec01e7aafd2cef8a5bbfd405a7d35d1fb',\n",
       "   'details': {'parent_model': '',\n",
       "    'format': 'gguf',\n",
       "    'family': 'phi3',\n",
       "    'families': ['phi3'],\n",
       "    'parameter_size': '3.8B',\n",
       "    'quantization_level': 'Q4_0'}}]}"
      ]
     },
     "execution_count": 27,
     "metadata": {},
     "output_type": "execute_result"
    }
   ],
   "source": [
    "ollama.list()"
   ]
  },
  {
   "cell_type": "code",
   "execution_count": 28,
   "metadata": {},
   "outputs": [],
   "source": [
    "response = ollama.generate(model='phi3', prompt='Why is the sky blue?')"
   ]
  },
  {
   "cell_type": "code",
   "execution_count": 29,
   "metadata": {},
   "outputs": [
    {
     "name": "stdout",
     "output_type": "stream",
     "text": [
      " The sky appears predominantly blue to observers on Earth due to a phenomenon called Rayleigh scattering. As sunlight passes through Earth's atmosphere, it encounters molecules and small particles that are much smaller than its wavelength (i.e., less than 1/10th the wavelength of visible light). These airborne particles cause short blue-wavelength photons to scatter in different directions more efficiently than other colors because they have a shorter, smaller wavelength which is better suited for this interaction with atmospheric molecules.\n",
      "\n",
      "\n",
      "The scattered sunlight enters the eye from all directions except directly from where it originally came; thus, we see light that has been scattered towards us and not just direct light coming from above as our line of sight typically lies below the scattering paths when looking toward any point in the sky (except during or shortly after a solar eclipse). This is why even if you are standing under an open sky with no clouds blocking your view, everything around except for very distant mountains will appear blue to some extent.\n",
      "\n",
      "\n",
      "The intensity of this effect depends on several factors including atmospheric conditions like humidity and pollution levels; however, the primary reason remains Rayleigh scattering by molecules in the air under normal weather circumstances is what makes the sky look predominantly blue during a clear day with little to no artificial light interference.\n"
     ]
    }
   ],
   "source": [
    "print(response[\"response\"])"
   ]
  },
  {
   "cell_type": "code",
   "execution_count": 30,
   "metadata": {},
   "outputs": [
    {
     "name": "stdout",
     "output_type": "stream",
     "text": [
      " Enrolling in a course once it has begun is typically not possible as classes are often designed with fixed schedules and seats that become filled quickly. However, there might be exceptions depending on the institution or format of your class (e.g., an open online session where new registrants can join). To address this matter accurately:\n",
      "\n",
      "1. Check directly with the instructor for their specific enrollment policy regarding late registration – some courses may allow it under certain conditions, while others will not accept any changes after they have started.\n",
      "2. If your course offers an open section or if there's another session that could accommodate you without conflicting schedules, consider looking into those options for future reference to avoid the same issue.\n",
      "3. For courses with late registration policies (which are uncommon), ensure all other prerequisites such as required materials and assignments have been completed before enrolling.\n"
     ]
    }
   ],
   "source": [
    "response = ollama.generate(model='phi3', prompt=question)\n",
    "print(response[\"response\"])"
   ]
  },
  {
   "cell_type": "markdown",
   "metadata": {},
   "source": [
    "## 3. LLM & RAG System"
   ]
  },
  {
   "cell_type": "code",
   "execution_count": 31,
   "metadata": {},
   "outputs": [],
   "source": [
    "def build_prompt(query: str, search_results: list) -> str:\n",
    "    \"\"\"\n",
    "    Build a prompt for generating an answer based on a given user query and search results.\n",
    "\n",
    "    Args:\n",
    "        query (str): The question/query for which the prompt is being built.\n",
    "        search_results (list): A list of dictionaries containing search results.\n",
    "\n",
    "    Returns:\n",
    "        str: The generated prompt.\n",
    "\n",
    "    \"\"\"\n",
    "    \n",
    "    prompt_template = \"\"\"\n",
    "You're a course teaching assistant. Answer the QUESTION based on the CONTEXT from the FAQ database.\n",
    "Use only the facts from the CONTEXT when answering the QUESTION.\n",
    "If the CONTEXT is not enough to answer the QUESTION, return NONE.\n",
    "\n",
    "QUESTION: {question}\n",
    "\n",
    "CONTEXT: \n",
    "{context}\n",
    "\n",
    "\"\"\".strip()\n",
    "\n",
    "    context = \"\"\n",
    "    \n",
    "    for doc in search_results:\n",
    "        context = context + f\"section: {doc['section']}\\nquestion: {doc['question']}\\nanswer: {doc['text']}\\n\\n\"\n",
    "    \n",
    "    prompt = prompt_template.format(question=query, context=context).strip()\n",
    "    return prompt"
   ]
  },
  {
   "cell_type": "code",
   "execution_count": 32,
   "metadata": {},
   "outputs": [],
   "source": [
    "def invoke_llm(prompt:str) -> str:\n",
    "    \"\"\"\n",
    "    Invokes the LLM (Language Model) to generate a response based on the given prompt.\n",
    "\n",
    "    Parameters:\n",
    "    prompt (str): The input prompt for the LLM.\n",
    "\n",
    "    Returns:\n",
    "    str: The generated response from the LLM.\n",
    "    \"\"\"\n",
    "\n",
    "    response = ollama.generate(model='phi3', prompt=prompt)\n",
    "    \n",
    "    return response[\"response\"]"
   ]
  },
  {
   "cell_type": "code",
   "execution_count": 33,
   "metadata": {},
   "outputs": [],
   "source": [
    "def run_rag_min_search(query: str, filter_dict: dict = {}) -> str:\n",
    "    \"\"\"\n",
    "    Runs the RAG (Retrieval-Augmented Generation) model to generate an answer based on the given query.\n",
    "\n",
    "    Args:\n",
    "        query (str): The query to search for.\n",
    "        filter_dict (dict, optional): A dictionary of filters to apply during the search. Defaults to {}.\n",
    "\n",
    "    Returns:\n",
    "        str: The generated answer.\n",
    "\n",
    "    \"\"\"\n",
    "    \n",
    "    search_results = search(query, filter_dict=filter_dict, num_results=5)\n",
    "\n",
    "    prompt = build_prompt(query, search_results)\n",
    "\n",
    "    answer = invoke_llm(prompt)\n",
    "\n",
    "    return answer"
   ]
  },
  {
   "cell_type": "code",
   "execution_count": 34,
   "metadata": {},
   "outputs": [
    {
     "name": "stdout",
     "output_type": "stream",
     "text": [
      " Based on the CONTEXT provided:\n",
      "\n",
      "Yes, even if a course has started and students are already enrolled in some form of self-paced mode or have not yet registered officially beforehand, you still can submit homework assignments for points as stated that \"even if you don't register, you're still eligible to submit the homeworks.\" However, there may be deadlines regarding final project submissions which should not be overlooked.\n",
      "\n",
      "The CONTEXT doesn’t explicitly mention late registration into an already started course or any specific policies for doing so after a class has begun and materials have been released. Therefore: \n"
     ]
    }
   ],
   "source": [
    "question = \"The course has already started, can I still enroll?\"\n",
    "response = run_rag_min_search(query=question, filter_dict={\"course\": \"data-engineering-zoomcamp\"})\n",
    "print(response)"
   ]
  },
  {
   "cell_type": "code",
   "execution_count": 35,
   "metadata": {},
   "outputs": [
    {
     "name": "stdout",
     "output_type": "stream",
     "text": [
      " NONE - The CONTEXT does not provide specific guidance on whether students can use other programming languages such as R or Scala within the course submissions and assessments. However, it advises against using different languages due to potential issues with library versions in homework assignments and peer-review difficulties for midterms/capstones.\n"
     ]
    }
   ],
   "source": [
    "question = \"Can I use other programming languages in the course?\"\n",
    "response = run_rag_min_search(query=question)\n",
    "print(response)"
   ]
  }
 ],
 "metadata": {
  "kernelspec": {
   "display_name": "venv",
   "language": "python",
   "name": "python3"
  },
  "language_info": {
   "codemirror_mode": {
    "name": "ipython",
    "version": 3
   },
   "file_extension": ".py",
   "mimetype": "text/x-python",
   "name": "python",
   "nbconvert_exporter": "python",
   "pygments_lexer": "ipython3",
   "version": "3.9.19"
  }
 },
 "nbformat": 4,
 "nbformat_minor": 2
}
